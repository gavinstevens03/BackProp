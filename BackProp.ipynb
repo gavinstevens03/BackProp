{
  "cells": [
    {
      "cell_type": "markdown",
      "metadata": {
        "id": "EKnrCmFQm_Ni"
      },
      "source": [
        "### Library Management"
      ]
    },
    {
      "cell_type": "code",
      "execution_count": 1,
      "metadata": {
        "id": "NUxib80Oo2lt"
      },
      "outputs": [],
      "source": [
        "import numpy as np\n",
        "import matplotlib.pyplot as plt\n",
        "import numpy.random as R\n",
        "\n",
        "# import tools for basic keras networks \n",
        "from tensorflow.keras import models\n",
        "from tensorflow.keras import layers\n",
        "from tensorflow.keras import optimizers\n",
        "from tensorflow.keras import metrics\n",
        "\n",
        "# supress unnecessary warnings throughout \n",
        "import os\n",
        "os.environ['TF_CPP_MIN_LOG_LEVEL']='2'"
      ]
    },
    {
      "cell_type": "markdown",
      "metadata": {
        "id": "Tqfq77Wo0XlS"
      },
      "source": [
        "### XOR Classification Problem"
      ]
    },
    {
      "cell_type": "markdown",
      "metadata": {
        "id": "WnduQNxGm_Nl"
      },
      "source": [
        "gensamples function generates random N samples from a 2D multivariate normal distribution:\n",
        "\n",
        "mean:\n",
        "[mx, my]\n",
        "\n",
        "covariance matrix: \n",
        "[[  sx*sx, r*sx*sy],\n",
        "[r*sx*sy,   sy*sy]]\n",
        "\n",
        "sx: standard deviation along the x dimension\n",
        "\n",
        "sy: standard deviation along the y dimension\n",
        "\n",
        "r: the correlation between the dimensions"
      ]
    },
    {
      "cell_type": "code",
      "execution_count": 2,
      "metadata": {
        "id": "iXFrwQ2NpEkO"
      },
      "outputs": [],
      "source": [
        "def gensamples(N, mx, my, sx, sy, r):\n",
        "    M   = np.array([mx, my])\n",
        "    Cov = np.array([[  sx*sx, r*sx*sy],\n",
        "                    [r*sx*sy,   sy*sy]])\n",
        "    return (R.multivariate_normal(M, Cov, size=N, check_valid='warn'))"
      ]
    },
    {
      "cell_type": "markdown",
      "metadata": {
        "id": "OJ3jvKl1m_Nl"
      },
      "source": [
        "#### XOR Classification Graph"
      ]
    },
    {
      "cell_type": "code",
      "execution_count": 3,
      "metadata": {
        "colab": {
          "base_uri": "https://localhost:8080/",
          "height": 279
        },
        "id": "ermUqy4mp_BK",
        "outputId": "970cda07-76f3-4afc-c9f9-af2d8572d88a"
      },
      "outputs": [
        {
          "output_type": "display_data",
          "data": {
            "text/plain": [
              "<Figure size 432x288 with 1 Axes>"
            ],
            "image/png": "[encoded data removed]"
          },
          "metadata": {
            "needs_background": "light"
          }
        }
      ],
      "source": [
        "# classification problem used in Q1\n",
        "\n",
        "# sample information from HW5\n",
        "sx = 1. ; sy = 1.\n",
        "r = 0.\n",
        "N = 100\n",
        "\n",
        "# new means for each category, through trial and error\n",
        "mx0_1 = -3.;  my0_1 = 3.\n",
        "mx0_2 = 3. ; my0_2 = -3.\n",
        "\n",
        "mx1_1 = 3.; my1_1 = 3.\n",
        "mx1_2 = -3.; my2_2 = -3.\n",
        "\n",
        "\n",
        "# create 200 training patterns per category\n",
        "sample0_1 = gensamples(N, mx0_1, my0_1, sx, sy, r)\n",
        "sample0_2 = gensamples(N, mx0_2, my0_2, sx, sy, r)\n",
        "\n",
        "sample1_1 = gensamples(N, mx1_1, my0_1, sx, sy, r)\n",
        "sample1_2 = gensamples(N, mx1_2, my0_2, sx, sy, r)\n",
        "\n",
        "# for use later in plottest function\n",
        "sample0 = np.concatenate((sample0_1, sample0_2))\n",
        "sample1 = np.concatenate((sample1_1, sample1_2))\n",
        "\n",
        "# combine both samples in each class to make plotting easier, make code more concise\n",
        "class0_x = np.concatenate((sample0_1[:,0], sample0_2[:,0]))\n",
        "class0_y = np.concatenate((sample0_1[:,1], sample0_2[:,1]))\n",
        "\n",
        "class1_x = np.concatenate((sample1_1[:,0], sample1_2[:,0]))\n",
        "class1_y = np.concatenate((sample1_1[:,1], sample1_2[:,1]))\n",
        "\n",
        "# plot example\n",
        "plt.plot(class0_x, class0_y, 'b+', class1_x, class1_y, 'r+')\n",
        "plt.xlabel('dim1')\n",
        "plt.ylabel('dim2')\n",
        "plt.axis('equal')\n",
        "plt.axis('square')\n",
        "plt.legend(('class 0', 'class 1'), loc='upper right')\n",
        "xymin = -5; xymax = 7\n",
        "plt.ylim((xymin,xymax))\n",
        "plt.xlim((xymin,xymax))\n",
        "plt.show()\n",
        "\n",
        "# each plus sign is a training pattern, position on x and y axis is the position of the dimensions.\n",
        "# feed 2d patterns to the network, use error driven learning to adjust the weights"
      ]
    },
    {
      "cell_type": "markdown",
      "metadata": {
        "id": "0Z98VN1Jm_Nn"
      },
      "source": [
        "#### Pattern Setup"
      ]
    },
    {
      "cell_type": "code",
      "execution_count": 4,
      "metadata": {
        "id": "ISGUqP94vo3U"
      },
      "outputs": [],
      "source": [
        "training_pats = np.concatenate((sample0_1, sample0_2, sample1_1, sample1_2), axis = 0) # create training patterns array from above, with shape (400, 2)\n",
        "\n",
        "class0 = np.zeros((200, 1)) # size of array is not hardcoded anywhere, must state it\n",
        "class1 = np.ones((200, 1))\n",
        "\n",
        "teacher_pats = np.concatenate((class0, class1), axis = 0)\n",
        "\n",
        "# shuffling the patterns to avoid confusing the model during validation\n",
        "shuffled_idx = R.permutation(training_pats.shape[0])\n",
        "train_pats_shuffled = training_pats[shuffled_idx,:]\n",
        "teach_pats_shuffled = teacher_pats[shuffled_idx,:]\n",
        "\n",
        "n_in = training_pats.shape[1]  # returns 2, which is the number of inputs \n",
        "n_out = teacher_pats.shape[1]  # returns 1, which is the number of outputs"
      ]
    },
    {
      "cell_type": "markdown",
      "metadata": {
        "id": "D1s_G1oR2_0P"
      },
      "source": [
        "### XOR Network"
      ]
    },
    {
      "cell_type": "code",
      "execution_count": 5,
      "metadata": {
        "colab": {
          "base_uri": "https://localhost:8080/"
        },
        "id": "q9WCU8Tt3D-H",
        "outputId": "17930e62-6a04-45cc-d68c-823855dbee99"
      },
      "outputs": [
        {
          "output_type": "stream",
          "name": "stdout",
          "text": [
            "Model: \"sequential\"\n",
            "_________________________________________________________________\n",
            " Layer (type)                Output Shape              Param #   \n",
            "=================================================================\n",
            " dense (Dense)               (None, 8)                 24        \n",
            "                                                                 \n",
            " dense_1 (Dense)             (None, 1)                 9         \n",
            "                                                                 \n",
            "=================================================================\n",
            "Total params: 33\n",
            "Trainable params: 33\n",
            "Non-trainable params: 0\n",
            "_________________________________________________________________\n",
            "None\n",
            "\n",
            "layer name : dense | input shape : (None, 2) | output shape : (None, 8)\n",
            "layer name : dense_1 | input shape : (None, 8) | output shape : (None, 1)\n",
            "\n",
            "{'name': 'dense', 'trainable': True, 'batch_input_shape': (None, 2), 'dtype': 'float32', 'units': 8, 'activation': 'sigmoid', 'use_bias': True, 'kernel_initializer': {'class_name': 'GlorotUniform', 'config': {'seed': None}}, 'bias_initializer': {'class_name': 'Zeros', 'config': {}}, 'kernel_regularizer': None, 'bias_regularizer': None, 'activity_regularizer': None, 'kernel_constraint': None, 'bias_constraint': None}\n",
            "{'name': 'dense_1', 'trainable': True, 'dtype': 'float32', 'units': 1, 'activation': 'sigmoid', 'use_bias': True, 'kernel_initializer': {'class_name': 'GlorotUniform', 'config': {'seed': None}}, 'bias_initializer': {'class_name': 'Zeros', 'config': {}}, 'kernel_regularizer': None, 'bias_regularizer': None, 'activity_regularizer': None, 'kernel_constraint': None, 'bias_constraint': None}\n",
            "\n",
            "Epoch 1/100\n",
            "16/16 [==============================] - 2s 42ms/step - loss: 0.7194 - accuracy: 0.5188 - mse: 0.2625 - val_loss: 0.7539 - val_accuracy: 0.4375 - val_mse: 0.2793\n",
            "Epoch 2/100\n",
            "16/16 [==============================] - 0s 18ms/step - loss: 0.7099 - accuracy: 0.5219 - mse: 0.2581 - val_loss: 0.7358 - val_accuracy: 0.4375 - val_mse: 0.2709\n",
            "Epoch 3/100\n",
            "16/16 [==============================] - 0s 11ms/step - loss: 0.7002 - accuracy: 0.5094 - mse: 0.2534 - val_loss: 0.7351 - val_accuracy: 0.4625 - val_mse: 0.2706\n",
            "Epoch 4/100\n",
            "16/16 [==============================] - 0s 12ms/step - loss: 0.6964 - accuracy: 0.5469 - mse: 0.2516 - val_loss: 0.7231 - val_accuracy: 0.4500 - val_mse: 0.2648\n",
            "Epoch 5/100\n",
            "16/16 [==============================] - 0s 6ms/step - loss: 0.6932 - accuracy: 0.5500 - mse: 0.2500 - val_loss: 0.7232 - val_accuracy: 0.4375 - val_mse: 0.2649\n",
            "Epoch 6/100\n",
            "16/16 [==============================] - 0s 6ms/step - loss: 0.6911 - accuracy: 0.5188 - mse: 0.2490 - val_loss: 0.7214 - val_accuracy: 0.3750 - val_mse: 0.2641\n",
            "Epoch 7/100\n",
            "16/16 [==============================] - 0s 8ms/step - loss: 0.6899 - accuracy: 0.4531 - mse: 0.2484 - val_loss: 0.7106 - val_accuracy: 0.3375 - val_mse: 0.2587\n",
            "Epoch 8/100\n",
            "16/16 [==============================] - 0s 8ms/step - loss: 0.6886 - accuracy: 0.4719 - mse: 0.2478 - val_loss: 0.7072 - val_accuracy: 0.3875 - val_mse: 0.2570\n",
            "Epoch 9/100\n",
            "16/16 [==============================] - 0s 9ms/step - loss: 0.6886 - accuracy: 0.5312 - mse: 0.2477 - val_loss: 0.7156 - val_accuracy: 0.3625 - val_mse: 0.2612\n",
            "Epoch 10/100\n",
            "16/16 [==============================] - 0s 15ms/step - loss: 0.6892 - accuracy: 0.4875 - mse: 0.2480 - val_loss: 0.7012 - val_accuracy: 0.3375 - val_mse: 0.2540\n",
            "Epoch 11/100\n",
            "16/16 [==============================] - 0s 8ms/step - loss: 0.6881 - accuracy: 0.5188 - mse: 0.2475 - val_loss: 0.7181 - val_accuracy: 0.3625 - val_mse: 0.2625\n",
            "Epoch 12/100\n",
            "16/16 [==============================] - 0s 11ms/step - loss: 0.6867 - accuracy: 0.5000 - mse: 0.2468 - val_loss: 0.7016 - val_accuracy: 0.3750 - val_mse: 0.2543\n",
            "Epoch 13/100\n",
            "16/16 [==============================] - 0s 11ms/step - loss: 0.6855 - accuracy: 0.4938 - mse: 0.2462 - val_loss: 0.7108 - val_accuracy: 0.3500 - val_mse: 0.2589\n",
            "Epoch 14/100\n",
            "16/16 [==============================] - 0s 8ms/step - loss: 0.6833 - accuracy: 0.5000 - mse: 0.2452 - val_loss: 0.7052 - val_accuracy: 0.3500 - val_mse: 0.2560\n",
            "Epoch 15/100\n",
            "16/16 [==============================] - 0s 11ms/step - loss: 0.6826 - accuracy: 0.4875 - mse: 0.2448 - val_loss: 0.7023 - val_accuracy: 0.3750 - val_mse: 0.2546\n",
            "Epoch 16/100\n",
            "16/16 [==============================] - 0s 7ms/step - loss: 0.6808 - accuracy: 0.5219 - mse: 0.2439 - val_loss: 0.6971 - val_accuracy: 0.4125 - val_mse: 0.2520\n",
            "Epoch 17/100\n",
            "16/16 [==============================] - 0s 26ms/step - loss: 0.6812 - accuracy: 0.5312 - mse: 0.2441 - val_loss: 0.6929 - val_accuracy: 0.4125 - val_mse: 0.2499\n",
            "Epoch 18/100\n",
            "16/16 [==============================] - 0s 11ms/step - loss: 0.6786 - accuracy: 0.5344 - mse: 0.2428 - val_loss: 0.7062 - val_accuracy: 0.3625 - val_mse: 0.2566\n",
            "Epoch 19/100\n",
            "16/16 [==============================] - 0s 12ms/step - loss: 0.6764 - accuracy: 0.5156 - mse: 0.2417 - val_loss: 0.6991 - val_accuracy: 0.4000 - val_mse: 0.2530\n",
            "Epoch 20/100\n",
            "16/16 [==============================] - 0s 7ms/step - loss: 0.6737 - accuracy: 0.5312 - mse: 0.2404 - val_loss: 0.6958 - val_accuracy: 0.4250 - val_mse: 0.2513\n",
            "Epoch 21/100\n",
            "16/16 [==============================] - 0s 8ms/step - loss: 0.6717 - accuracy: 0.6000 - mse: 0.2393 - val_loss: 0.6870 - val_accuracy: 0.5250 - val_mse: 0.2470\n",
            "Epoch 22/100\n",
            "16/16 [==============================] - 0s 13ms/step - loss: 0.6689 - accuracy: 0.6000 - mse: 0.2379 - val_loss: 0.6869 - val_accuracy: 0.5000 - val_mse: 0.2469\n",
            "Epoch 23/100\n",
            "16/16 [==============================] - 0s 17ms/step - loss: 0.6658 - accuracy: 0.5594 - mse: 0.2365 - val_loss: 0.6903 - val_accuracy: 0.4500 - val_mse: 0.2486\n",
            "Epoch 24/100\n",
            "16/16 [==============================] - 0s 16ms/step - loss: 0.6636 - accuracy: 0.6594 - mse: 0.2353 - val_loss: 0.6760 - val_accuracy: 0.6125 - val_mse: 0.2415\n",
            "Epoch 25/100\n",
            "16/16 [==============================] - 0s 9ms/step - loss: 0.6583 - accuracy: 0.6594 - mse: 0.2327 - val_loss: 0.6827 - val_accuracy: 0.5125 - val_mse: 0.2449\n",
            "Epoch 26/100\n",
            "16/16 [==============================] - 0s 9ms/step - loss: 0.6540 - accuracy: 0.6812 - mse: 0.2306 - val_loss: 0.6686 - val_accuracy: 0.6250 - val_mse: 0.2378\n",
            "Epoch 27/100\n",
            "16/16 [==============================] - 0s 9ms/step - loss: 0.6484 - accuracy: 0.7156 - mse: 0.2278 - val_loss: 0.6673 - val_accuracy: 0.6125 - val_mse: 0.2372\n",
            "Epoch 28/100\n",
            "16/16 [==============================] - 0s 6ms/step - loss: 0.6431 - accuracy: 0.7063 - mse: 0.2252 - val_loss: 0.6675 - val_accuracy: 0.6125 - val_mse: 0.2374\n",
            "Epoch 29/100\n",
            "16/16 [==============================] - 0s 4ms/step - loss: 0.6369 - accuracy: 0.7344 - mse: 0.2222 - val_loss: 0.6523 - val_accuracy: 0.7375 - val_mse: 0.2297\n",
            "Epoch 30/100\n",
            "16/16 [==============================] - 0s 4ms/step - loss: 0.6297 - accuracy: 0.8406 - mse: 0.2185 - val_loss: 0.6413 - val_accuracy: 0.8125 - val_mse: 0.2243\n",
            "Epoch 31/100\n",
            "16/16 [==============================] - 0s 4ms/step - loss: 0.6217 - accuracy: 0.8469 - mse: 0.2145 - val_loss: 0.6376 - val_accuracy: 0.7500 - val_mse: 0.2225\n",
            "Epoch 32/100\n",
            "16/16 [==============================] - 0s 4ms/step - loss: 0.6124 - accuracy: 0.8406 - mse: 0.2101 - val_loss: 0.6335 - val_accuracy: 0.7875 - val_mse: 0.2205\n",
            "Epoch 33/100\n",
            "16/16 [==============================] - 0s 3ms/step - loss: 0.6029 - accuracy: 0.8656 - mse: 0.2054 - val_loss: 0.6180 - val_accuracy: 0.8375 - val_mse: 0.2127\n",
            "Epoch 34/100\n",
            "16/16 [==============================] - 0s 3ms/step - loss: 0.5926 - accuracy: 0.8969 - mse: 0.2002 - val_loss: 0.6083 - val_accuracy: 0.8625 - val_mse: 0.2080\n",
            "Epoch 35/100\n",
            "16/16 [==============================] - 0s 4ms/step - loss: 0.5812 - accuracy: 0.9125 - mse: 0.1947 - val_loss: 0.5980 - val_accuracy: 0.8875 - val_mse: 0.2029\n",
            "Epoch 36/100\n",
            "16/16 [==============================] - 0s 3ms/step - loss: 0.5690 - accuracy: 0.9406 - mse: 0.1887 - val_loss: 0.5851 - val_accuracy: 0.9250 - val_mse: 0.1966\n",
            "Epoch 37/100\n",
            "16/16 [==============================] - 0s 3ms/step - loss: 0.5563 - accuracy: 0.9469 - mse: 0.1826 - val_loss: 0.5680 - val_accuracy: 0.9250 - val_mse: 0.1882\n",
            "Epoch 38/100\n",
            "16/16 [==============================] - 0s 4ms/step - loss: 0.5425 - accuracy: 0.9531 - mse: 0.1759 - val_loss: 0.5535 - val_accuracy: 0.9375 - val_mse: 0.1812\n",
            "Epoch 39/100\n",
            "16/16 [==============================] - 0s 4ms/step - loss: 0.5282 - accuracy: 0.9594 - mse: 0.1690 - val_loss: 0.5394 - val_accuracy: 0.9500 - val_mse: 0.1743\n",
            "Epoch 40/100\n",
            "16/16 [==============================] - 0s 3ms/step - loss: 0.5140 - accuracy: 0.9594 - mse: 0.1624 - val_loss: 0.5310 - val_accuracy: 0.9500 - val_mse: 0.1705\n",
            "Epoch 41/100\n",
            "16/16 [==============================] - 0s 4ms/step - loss: 0.4979 - accuracy: 0.9781 - mse: 0.1548 - val_loss: 0.5089 - val_accuracy: 0.9750 - val_mse: 0.1598\n",
            "Epoch 42/100\n",
            "16/16 [==============================] - 0s 4ms/step - loss: 0.4830 - accuracy: 0.9812 - mse: 0.1477 - val_loss: 0.4954 - val_accuracy: 0.9625 - val_mse: 0.1535\n",
            "Epoch 43/100\n",
            "16/16 [==============================] - 0s 3ms/step - loss: 0.4666 - accuracy: 0.9906 - mse: 0.1400 - val_loss: 0.4725 - val_accuracy: 0.9875 - val_mse: 0.1426\n",
            "Epoch 44/100\n",
            "16/16 [==============================] - 0s 3ms/step - loss: 0.4502 - accuracy: 0.9875 - mse: 0.1325 - val_loss: 0.4593 - val_accuracy: 0.9875 - val_mse: 0.1366\n",
            "Epoch 45/100\n",
            "16/16 [==============================] - 0s 4ms/step - loss: 0.4337 - accuracy: 0.9875 - mse: 0.1251 - val_loss: 0.4416 - val_accuracy: 0.9875 - val_mse: 0.1285\n",
            "Epoch 46/100\n",
            "16/16 [==============================] - 0s 3ms/step - loss: 0.4182 - accuracy: 0.9906 - mse: 0.1181 - val_loss: 0.4233 - val_accuracy: 1.0000 - val_mse: 0.1202\n",
            "Epoch 47/100\n",
            "16/16 [==============================] - 0s 3ms/step - loss: 0.4043 - accuracy: 0.9844 - mse: 0.1123 - val_loss: 0.4153 - val_accuracy: 0.9875 - val_mse: 0.1170\n",
            "Epoch 48/100\n",
            "16/16 [==============================] - 0s 5ms/step - loss: 0.3871 - accuracy: 0.9937 - mse: 0.1048 - val_loss: 0.3917 - val_accuracy: 1.0000 - val_mse: 0.1064\n",
            "Epoch 49/100\n",
            "16/16 [==============================] - 0s 5ms/step - loss: 0.3716 - accuracy: 0.9937 - mse: 0.0983 - val_loss: 0.3778 - val_accuracy: 1.0000 - val_mse: 0.1005\n",
            "Epoch 50/100\n",
            "16/16 [==============================] - 0s 3ms/step - loss: 0.3570 - accuracy: 0.9937 - mse: 0.0922 - val_loss: 0.3622 - val_accuracy: 1.0000 - val_mse: 0.0939\n",
            "Epoch 51/100\n",
            "16/16 [==============================] - 0s 3ms/step - loss: 0.3426 - accuracy: 0.9937 - mse: 0.0864 - val_loss: 0.3500 - val_accuracy: 1.0000 - val_mse: 0.0890\n",
            "Epoch 52/100\n",
            "16/16 [==============================] - 0s 5ms/step - loss: 0.3294 - accuracy: 0.9937 - mse: 0.0812 - val_loss: 0.3335 - val_accuracy: 1.0000 - val_mse: 0.0822\n",
            "Epoch 53/100\n",
            "16/16 [==============================] - 0s 3ms/step - loss: 0.3163 - accuracy: 0.9937 - mse: 0.0762 - val_loss: 0.3210 - val_accuracy: 1.0000 - val_mse: 0.0775\n",
            "Epoch 54/100\n",
            "16/16 [==============================] - 0s 3ms/step - loss: 0.3034 - accuracy: 0.9937 - mse: 0.0713 - val_loss: 0.3077 - val_accuracy: 1.0000 - val_mse: 0.0722\n",
            "Epoch 55/100\n",
            "16/16 [==============================] - 0s 3ms/step - loss: 0.2916 - accuracy: 0.9937 - mse: 0.0669 - val_loss: 0.2947 - val_accuracy: 1.0000 - val_mse: 0.0673\n",
            "Epoch 56/100\n",
            "16/16 [==============================] - 0s 6ms/step - loss: 0.2805 - accuracy: 0.9937 - mse: 0.0628 - val_loss: 0.2824 - val_accuracy: 1.0000 - val_mse: 0.0627\n",
            "Epoch 57/100\n",
            "16/16 [==============================] - 0s 4ms/step - loss: 0.2695 - accuracy: 0.9937 - mse: 0.0590 - val_loss: 0.2735 - val_accuracy: 1.0000 - val_mse: 0.0597\n",
            "Epoch 58/100\n",
            "16/16 [==============================] - 0s 3ms/step - loss: 0.2594 - accuracy: 0.9937 - mse: 0.0557 - val_loss: 0.2626 - val_accuracy: 1.0000 - val_mse: 0.0558\n",
            "Epoch 59/100\n",
            "16/16 [==============================] - 0s 3ms/step - loss: 0.2497 - accuracy: 0.9937 - mse: 0.0525 - val_loss: 0.2535 - val_accuracy: 1.0000 - val_mse: 0.0528\n",
            "Epoch 60/100\n",
            "16/16 [==============================] - 0s 5ms/step - loss: 0.2408 - accuracy: 0.9969 - mse: 0.0495 - val_loss: 0.2430 - val_accuracy: 1.0000 - val_mse: 0.0491\n",
            "Epoch 61/100\n",
            "16/16 [==============================] - 0s 4ms/step - loss: 0.2322 - accuracy: 0.9969 - mse: 0.0468 - val_loss: 0.2353 - val_accuracy: 1.0000 - val_mse: 0.0467\n",
            "Epoch 62/100\n",
            "16/16 [==============================] - 0s 4ms/step - loss: 0.2239 - accuracy: 0.9969 - mse: 0.0443 - val_loss: 0.2251 - val_accuracy: 1.0000 - val_mse: 0.0434\n",
            "Epoch 63/100\n",
            "16/16 [==============================] - 0s 5ms/step - loss: 0.2163 - accuracy: 0.9969 - mse: 0.0419 - val_loss: 0.2176 - val_accuracy: 1.0000 - val_mse: 0.0411\n",
            "Epoch 64/100\n",
            "16/16 [==============================] - 0s 5ms/step - loss: 0.2090 - accuracy: 0.9969 - mse: 0.0397 - val_loss: 0.2095 - val_accuracy: 1.0000 - val_mse: 0.0386\n",
            "Epoch 65/100\n",
            "16/16 [==============================] - 0s 4ms/step - loss: 0.2022 - accuracy: 0.9969 - mse: 0.0377 - val_loss: 0.2018 - val_accuracy: 1.0000 - val_mse: 0.0362\n",
            "Epoch 66/100\n",
            "16/16 [==============================] - 0s 4ms/step - loss: 0.1957 - accuracy: 0.9969 - mse: 0.0359 - val_loss: 0.1975 - val_accuracy: 1.0000 - val_mse: 0.0351\n",
            "Epoch 67/100\n",
            "16/16 [==============================] - 0s 3ms/step - loss: 0.1894 - accuracy: 0.9969 - mse: 0.0343 - val_loss: 0.1905 - val_accuracy: 1.0000 - val_mse: 0.0331\n",
            "Epoch 68/100\n",
            "16/16 [==============================] - 0s 3ms/step - loss: 0.1836 - accuracy: 0.9969 - mse: 0.0326 - val_loss: 0.1828 - val_accuracy: 1.0000 - val_mse: 0.0308\n",
            "Epoch 69/100\n",
            "16/16 [==============================] - 0s 5ms/step - loss: 0.1779 - accuracy: 0.9969 - mse: 0.0311 - val_loss: 0.1773 - val_accuracy: 1.0000 - val_mse: 0.0294\n",
            "Epoch 70/100\n",
            "16/16 [==============================] - 0s 5ms/step - loss: 0.1728 - accuracy: 0.9969 - mse: 0.0298 - val_loss: 0.1725 - val_accuracy: 1.0000 - val_mse: 0.0281\n",
            "Epoch 71/100\n",
            "16/16 [==============================] - 0s 4ms/step - loss: 0.1677 - accuracy: 0.9969 - mse: 0.0286 - val_loss: 0.1675 - val_accuracy: 1.0000 - val_mse: 0.0269\n",
            "Epoch 72/100\n",
            "16/16 [==============================] - 0s 4ms/step - loss: 0.1631 - accuracy: 0.9969 - mse: 0.0274 - val_loss: 0.1619 - val_accuracy: 1.0000 - val_mse: 0.0254\n",
            "Epoch 73/100\n",
            "16/16 [==============================] - 0s 4ms/step - loss: 0.1586 - accuracy: 0.9969 - mse: 0.0263 - val_loss: 0.1576 - val_accuracy: 1.0000 - val_mse: 0.0243\n",
            "Epoch 74/100\n",
            "16/16 [==============================] - 0s 4ms/step - loss: 0.1544 - accuracy: 0.9969 - mse: 0.0253 - val_loss: 0.1532 - val_accuracy: 1.0000 - val_mse: 0.0233\n",
            "Epoch 75/100\n",
            "16/16 [==============================] - 0s 5ms/step - loss: 0.1502 - accuracy: 0.9969 - mse: 0.0243 - val_loss: 0.1488 - val_accuracy: 1.0000 - val_mse: 0.0222\n",
            "Epoch 76/100\n",
            "16/16 [==============================] - 0s 4ms/step - loss: 0.1465 - accuracy: 0.9969 - mse: 0.0235 - val_loss: 0.1450 - val_accuracy: 1.0000 - val_mse: 0.0213\n",
            "Epoch 77/100\n",
            "16/16 [==============================] - 0s 4ms/step - loss: 0.1428 - accuracy: 0.9969 - mse: 0.0227 - val_loss: 0.1412 - val_accuracy: 1.0000 - val_mse: 0.0203\n",
            "Epoch 78/100\n",
            "16/16 [==============================] - 0s 4ms/step - loss: 0.1392 - accuracy: 0.9969 - mse: 0.0219 - val_loss: 0.1373 - val_accuracy: 1.0000 - val_mse: 0.0195\n",
            "Epoch 79/100\n",
            "16/16 [==============================] - 0s 5ms/step - loss: 0.1360 - accuracy: 0.9969 - mse: 0.0212 - val_loss: 0.1344 - val_accuracy: 1.0000 - val_mse: 0.0189\n",
            "Epoch 80/100\n",
            "16/16 [==============================] - 0s 3ms/step - loss: 0.1328 - accuracy: 0.9969 - mse: 0.0205 - val_loss: 0.1306 - val_accuracy: 1.0000 - val_mse: 0.0180\n",
            "Epoch 81/100\n",
            "16/16 [==============================] - 0s 4ms/step - loss: 0.1298 - accuracy: 0.9969 - mse: 0.0198 - val_loss: 0.1266 - val_accuracy: 1.0000 - val_mse: 0.0171\n",
            "Epoch 82/100\n",
            "16/16 [==============================] - 0s 5ms/step - loss: 0.1271 - accuracy: 0.9969 - mse: 0.0193 - val_loss: 0.1242 - val_accuracy: 1.0000 - val_mse: 0.0166\n",
            "Epoch 83/100\n",
            "16/16 [==============================] - 0s 6ms/step - loss: 0.1242 - accuracy: 0.9969 - mse: 0.0187 - val_loss: 0.1213 - val_accuracy: 1.0000 - val_mse: 0.0160\n",
            "Epoch 84/100\n",
            "16/16 [==============================] - 0s 5ms/step - loss: 0.1215 - accuracy: 0.9969 - mse: 0.0181 - val_loss: 0.1182 - val_accuracy: 1.0000 - val_mse: 0.0154\n",
            "Epoch 85/100\n",
            "16/16 [==============================] - 0s 4ms/step - loss: 0.1188 - accuracy: 0.9969 - mse: 0.0176 - val_loss: 0.1158 - val_accuracy: 1.0000 - val_mse: 0.0149\n",
            "Epoch 86/100\n",
            "16/16 [==============================] - 0s 4ms/step - loss: 0.1164 - accuracy: 0.9969 - mse: 0.0171 - val_loss: 0.1131 - val_accuracy: 1.0000 - val_mse: 0.0143\n",
            "Epoch 87/100\n",
            "16/16 [==============================] - 0s 4ms/step - loss: 0.1140 - accuracy: 0.9969 - mse: 0.0166 - val_loss: 0.1108 - val_accuracy: 1.0000 - val_mse: 0.0139\n",
            "Epoch 88/100\n",
            "16/16 [==============================] - 0s 4ms/step - loss: 0.1119 - accuracy: 0.9969 - mse: 0.0163 - val_loss: 0.1084 - val_accuracy: 1.0000 - val_mse: 0.0134\n",
            "Epoch 89/100\n",
            "16/16 [==============================] - 0s 5ms/step - loss: 0.1098 - accuracy: 0.9969 - mse: 0.0159 - val_loss: 0.1066 - val_accuracy: 1.0000 - val_mse: 0.0131\n",
            "Epoch 90/100\n",
            "16/16 [==============================] - 0s 5ms/step - loss: 0.1078 - accuracy: 0.9969 - mse: 0.0155 - val_loss: 0.1039 - val_accuracy: 1.0000 - val_mse: 0.0125\n",
            "Epoch 91/100\n",
            "16/16 [==============================] - 0s 4ms/step - loss: 0.1057 - accuracy: 0.9969 - mse: 0.0151 - val_loss: 0.1020 - val_accuracy: 1.0000 - val_mse: 0.0122\n",
            "Epoch 92/100\n",
            "16/16 [==============================] - 0s 5ms/step - loss: 0.1037 - accuracy: 0.9969 - mse: 0.0147 - val_loss: 0.1003 - val_accuracy: 1.0000 - val_mse: 0.0119\n",
            "Epoch 93/100\n",
            "16/16 [==============================] - 0s 4ms/step - loss: 0.1019 - accuracy: 0.9969 - mse: 0.0144 - val_loss: 0.0979 - val_accuracy: 1.0000 - val_mse: 0.0115\n",
            "Epoch 94/100\n",
            "16/16 [==============================] - 0s 4ms/step - loss: 0.1001 - accuracy: 0.9969 - mse: 0.0141 - val_loss: 0.0963 - val_accuracy: 1.0000 - val_mse: 0.0112\n",
            "Epoch 95/100\n",
            "16/16 [==============================] - 0s 4ms/step - loss: 0.0985 - accuracy: 0.9969 - mse: 0.0138 - val_loss: 0.0944 - val_accuracy: 1.0000 - val_mse: 0.0108\n",
            "Epoch 96/100\n",
            "16/16 [==============================] - 0s 4ms/step - loss: 0.0968 - accuracy: 0.9969 - mse: 0.0135 - val_loss: 0.0930 - val_accuracy: 1.0000 - val_mse: 0.0106\n",
            "Epoch 97/100\n",
            "16/16 [==============================] - 0s 4ms/step - loss: 0.0952 - accuracy: 0.9969 - mse: 0.0133 - val_loss: 0.0911 - val_accuracy: 1.0000 - val_mse: 0.0103\n",
            "Epoch 98/100\n",
            "16/16 [==============================] - 0s 4ms/step - loss: 0.0937 - accuracy: 0.9969 - mse: 0.0130 - val_loss: 0.0895 - val_accuracy: 1.0000 - val_mse: 0.0100\n",
            "Epoch 99/100\n",
            "16/16 [==============================] - 0s 4ms/step - loss: 0.0922 - accuracy: 0.9969 - mse: 0.0127 - val_loss: 0.0878 - val_accuracy: 1.0000 - val_mse: 0.0097\n",
            "Epoch 100/100\n",
            "16/16 [==============================] - 0s 4ms/step - loss: 0.0908 - accuracy: 0.9969 - mse: 0.0125 - val_loss: 0.0861 - val_accuracy: 1.0000 - val_mse: 0.0094\n"
          ]
        }
      ],
      "source": [
        "nhid1 = 8  # number of nodes in hidden layer\n",
        "\n",
        "network_q1 = models.Sequential()\n",
        "network_q1.add(layers.Dense(nhid1, \n",
        "                         activation='sigmoid', \n",
        "                         input_shape=(n_in,)))  # present an additional layer\n",
        "network_q1.add(layers.Dense(n_out,\n",
        "                            activation = 'sigmoid'))\n",
        "\n",
        "# print a model summary\n",
        "print(network_q1.summary())\n",
        "print()\n",
        "for layer in network_q1.layers:\n",
        "    print('layer name : {} | input shape : {} | output shape : {}'.format(layer.name, layer.input.shape, layer.output.shape))\n",
        "print()\n",
        "for layer in network_q1.layers:\n",
        "    print(layer.get_config())\n",
        "print()\n",
        "\n",
        "# configure optimizer\n",
        "sgd = optimizers.SGD(learning_rate = 0.01, decay = 1e-6, momentum = 0.9)  # stochastic gradient descent with provided parameters\n",
        "\n",
        "# compile network\n",
        "network_q1.compile(optimizer = sgd, \n",
        "                loss = 'binary_crossentropy', \n",
        "                metrics = ['accuracy', 'mse'])  # added accuracy metric for use later\n",
        "\n",
        "# train the network\n",
        "history = network_q1.fit(train_pats_shuffled, \n",
        "                      teach_pats_shuffled, \n",
        "                      verbose = True, \n",
        "                      validation_split = 0.20,\n",
        "                      epochs = 100, \n",
        "                      batch_size = 20)  # same batch size from HW5"
      ]
    },
    {
      "cell_type": "markdown",
      "metadata": {
        "id": "zsnFZWRgm7vp"
      },
      "source": [
        "#### **Architecture Analysis**\n",
        "\n",
        "The way I approached this problem was by first trying to find the best number of hidden layers and nodes, then moving onto epochs and batch size.\n",
        "\n",
        "Initially, I tried using 2 nodes within one hidden layer. This model was ineffective. The accuracy graph for this model was unstable and hit a horizontal asymptote of around 0.50.\n",
        "\n",
        "I then increased the number of nodes to 8 in the single hidden layer. The model was even more variable in terms of accuracy, eventually leveling out to an accuracy of 0.50 again.\n",
        "\n",
        "I then figured that maybe the model needs more epochs to make more adjustments and increase accuracy. I increased the epochs to 100, and saw that the model was able to reach almost 100% accuracy with more trials. While 100 epochs reaches a horizontal asymptote in loss by around 35 epochs, having the additional epochs allows for both the loss and validation loss to level out, which is ideal for the network.\n",
        "\n",
        "In all honesty, I did not mess with the batch size or learning rate to any extent because the model was successful without doing so."
      ]
    },
    {
      "cell_type": "markdown",
      "metadata": {
        "id": "rPLbikac-qEc"
      },
      "source": [
        "#### Visualizing Training Performance"
      ]
    },
    {
      "cell_type": "code",
      "execution_count": null,
      "metadata": {
        "colab": {
          "base_uri": "https://localhost:8080/",
          "height": 313
        },
        "id": "NM5nQ6lC-sN8",
        "outputId": "ca49b481-8bc2-4f46-834f-a5f6c6afea1e"
      },
      "outputs": [
        {
          "data": {
            "text/plain": [
              "Text(0.5, 1.0, 'Model Accuracy')"
            ]
          },
          "execution_count": 6,
          "metadata": {},
          "output_type": "execute_result"
        },
        {
          "data": {
            "image/png": "[encoded data removed]",
            "text/plain": [
              "<Figure size 432x288 with 1 Axes>"
            ]
          },
          "metadata": {
            "needs_background": "light"
          },
          "output_type": "display_data"
        }
      ],
      "source": [
        "epoch_list = np.arange(0, history.params['epochs'])  # creates an array of x values for each epoch\n",
        "accuracy_list = history.history['accuracy']  # calls the accuracies from training the network above\n",
        "\n",
        "#  Plot the data\n",
        "plt.plot(epoch_list, accuracy_list)\n",
        "plt.xlabel('Epochs')\n",
        "plt.ylabel('Accuracy')\n",
        "plt.title('Model Accuracy')"
      ]
    },
    {
      "cell_type": "code",
      "execution_count": null,
      "metadata": {
        "colab": {
          "base_uri": "https://localhost:8080/",
          "height": 313
        },
        "id": "YqEBVsD7gTv8",
        "outputId": "f81aa869-0125-4f48-9aeb-3c784d29f9c6"
      },
      "outputs": [
        {
          "data": {
            "text/plain": [
              "Text(0.5, 1.0, 'Model Accuracy')"
            ]
          },
          "execution_count": 7,
          "metadata": {},
          "output_type": "execute_result"
        },
        {
          "data": {
            "image/png": "[encoded data removed]",
            "text/plain": [
              "<Figure size 432x288 with 1 Axes>"
            ]
          },
          "metadata": {
            "needs_background": "light"
          },
          "output_type": "display_data"
        }
      ],
      "source": [
        "loss_list = history.history['loss']\n",
        "val_loss_list = history.history['val_loss']\n",
        "\n",
        "plt.plot(epoch_list, loss_list, 'r', val_loss_list, 'c')  # plot both lists on the same graph\n",
        "plt.legend(('loss', 'val_loss'), loc='center right')\n",
        "plt.xlabel('Epochs')\n",
        "plt.title('Model Accuracy')"
      ]
    },
    {
      "cell_type": "markdown",
      "metadata": {
        "id": "KfSONQ8Pm_Np"
      },
      "source": [
        "Creation of test patterns"
      ]
    },
    {
      "cell_type": "code",
      "execution_count": null,
      "metadata": {
        "id": "W34LO3IQ_HnD"
      },
      "outputs": [],
      "source": [
        "# they will be evenly spaced along the x and y axes, making a lattice, or mesh \n",
        "\n",
        "xymin = -5\n",
        "xymax = 7.5\n",
        "Npts = 50\n",
        "xv, yv = np.meshgrid(np.linspace(xymin, xymax, Npts), \n",
        "                     np.linspace(xymin, xymax, Npts))\n",
        "test_pats = np.concatenate((xv.reshape((Npts*Npts,1)), \n",
        "                            yv.reshape((Npts*Npts,1))), axis=1)"
      ]
    },
    {
      "cell_type": "code",
      "execution_count": null,
      "metadata": {
        "id": "XUef9pHThoRj"
      },
      "outputs": [],
      "source": [
        "# xv is array of x-values of test grid (from meshgrid above)\n",
        "# yv is array of y-values of test grid (from meshgrid above)\n",
        "# out is the output of the neural network given the test patterns\n",
        "# sample0, sample1 are the training patterns from earlier\n",
        "\n",
        "def plottest(xv, yv, out, sample0, sample1):\n",
        "    # reshape out\n",
        "    zv = out.reshape(xv.shape)\n",
        "\n",
        "    # create figure\n",
        "    fig = plt.figure()\n",
        "    plt.contourf(xv, yv, zv, levels=xv.shape[0], cmap=plt.cm.gist_yarg)\n",
        "    plt.plot(sample0[:,0], sample0[:,1], 'b+', \n",
        "             sample1[:,0], sample1[:,1], 'r+')    \n",
        "    \n",
        "    plt.xlabel('dim1')\n",
        "    plt.ylabel('dim2')\n",
        "    plt.axis('equal')\n",
        "    plt.axis('square')\n",
        "    xymin = -5; xymax = 7.5\n",
        "    plt.ylim((xymin,xymax))\n",
        "    plt.xlim((xymin,xymax))\n",
        "    plt.show()"
      ]
    },
    {
      "cell_type": "code",
      "execution_count": null,
      "metadata": {
        "colab": {
          "base_uri": "https://localhost:8080/",
          "height": 297
        },
        "id": "DKPgKVUYhvIY",
        "outputId": "100fc5f1-c0d3-4342-c5bd-7866768ad8a5"
      },
      "outputs": [
        {
          "name": "stdout",
          "output_type": "stream",
          "text": [
            "79/79 [==============================] - 0s 808us/step\n"
          ]
        },
        {
          "data": {
            "image/png": "[encoded data removed]",
            "text/plain": [
              "<Figure size 432x288 with 1 Axes>"
            ]
          },
          "metadata": {
            "needs_background": "light"
          },
          "output_type": "display_data"
        }
      ],
      "source": [
        "out = network_q1.predict(test_pats)  # use notation, creates an array of outputs\n",
        "\n",
        "plottest(xv, yv, out, sample0, sample1)  # use plottest function from above"
      ]
    },
    {
      "cell_type": "markdown",
      "metadata": {
        "id": "uTqiNAMJt5rw"
      },
      "source": [
        "### Non-XOR Classification Problem"
      ]
    },
    {
      "cell_type": "code",
      "execution_count": 6,
      "metadata": {
        "colab": {
          "base_uri": "https://localhost:8080/",
          "height": 279
        },
        "id": "S-H0F5uqt8Iv",
        "outputId": "216f96f9-79bf-4c10-b6aa-90efc114fd04"
      },
      "outputs": [
        {
          "output_type": "display_data",
          "data": {
            "text/plain": [
              "<Figure size 432x288 with 1 Axes>"
            ],
            "image/png": "[encoded data removed]"
          },
          "metadata": {
            "needs_background": "light"
          }
        }
      ],
      "source": [
        "# classification problem used in Q1\n",
        "\n",
        "# class 0 generation\n",
        "mx0_1 = -1.;  my0_1 = 2.5\n",
        "sx0_1 = 0.52 ;  sy0_1 = 2.\n",
        "\n",
        "mx0_2 = 4.5 ; my0_2 = -3.\n",
        "sx0_2 = 2.5; sy0_2 = 0.48\n",
        "\n",
        "r0_1 = 0.5 ; r0_2 = -0.8\n",
        "\n",
        "# class 1 generation\n",
        "mx1_1 = -3.; my1_1 = -3.\n",
        "sx1_1 = 0.9 ; sy1_1 = 0.5\n",
        "\n",
        "mx1_2 = 4.; my1_2 = 4.\n",
        "sx1_2 = 0.75 ; sy1_2 = 1.2\n",
        "\n",
        "r1_1 = 0.1 ; r1_2 = 0.2\n",
        "\n",
        "\n",
        "# create 200 training patterns per category\n",
        "sample0_1 = gensamples(N, mx0_1, my0_1, sx0_1, sy0_1, r0_1)\n",
        "sample0_2 = gensamples(N, mx0_2, my0_2, sx0_2, sy0_2, r0_2)\n",
        "\n",
        "sample1_1 = gensamples(N, mx1_1, my1_1, sx1_1, sy1_1, r1_1)\n",
        "sample1_2 = gensamples(N, mx1_2, my1_2, sx1_2, sy1_2, r1_2)\n",
        "\n",
        "# for use later in plottest function, making all these variable concise\n",
        "sample0 = np.concatenate((sample0_1, sample0_2))\n",
        "sample1 = np.concatenate((sample1_1, sample1_2))\n",
        "\n",
        "# combine both samples in each class to make plotting easier, make code more concise\n",
        "class0_x = np.concatenate((sample0_1[:,0], sample0_2[:,0]))\n",
        "class0_y = np.concatenate((sample0_1[:,1], sample0_2[:,1]))\n",
        "\n",
        "class1_x = np.concatenate((sample1_1[:,0], sample1_2[:,0]))\n",
        "class1_y = np.concatenate((sample1_1[:,1], sample1_2[:,1]))\n",
        "\n",
        "# plot example\n",
        "plt.plot(class0_x, class0_y, 'b+', class1_x, class1_y, 'r+')\n",
        "plt.xlabel('dim1')\n",
        "plt.ylabel('dim2')\n",
        "plt.axis('equal')\n",
        "plt.axis('square')\n",
        "plt.legend(('class 0', 'class 1'), loc='upper right')\n",
        "xymin = -5; xymax = 7\n",
        "plt.ylim((xymin,xymax))\n",
        "plt.xlim((xymin,xymax))\n",
        "plt.show()\n",
        "\n",
        "# each plus sign is a training pattern, position on x and y axis is the position of the dimensions.\n",
        "# feed 2d patterns to the network, use error driven learning to adjust the weights"
      ]
    },
    {
      "cell_type": "markdown",
      "metadata": {
        "id": "nrxGawuTwCfd"
      },
      "source": [
        "### Non-XOR Network"
      ]
    },
    {
      "cell_type": "code",
      "execution_count": 7,
      "metadata": {
        "id": "zH59ZMgCwEUp"
      },
      "outputs": [],
      "source": [
        "training_pats = np.concatenate((sample0_1, sample0_2, sample1_1, sample1_2), axis = 0) # create training patterns array from above, with shape (400, 2)\n",
        "\n",
        "class0 = np.zeros((200, 1)) # size of array is not hardcoded anywhere, must state it\n",
        "class1 = np.ones((200, 1))\n",
        "\n",
        "teacher_pats = np.concatenate((class0, class1), axis = 0)\n",
        "\n",
        "shuffled_idx = R.permutation(training_pats.shape[0])\n",
        "train_pats_shuffled = training_pats[shuffled_idx,:]\n",
        "teach_pats_shuffled = teacher_pats[shuffled_idx,:]\n",
        "\n",
        "n_in = training_pats.shape[1]  # returns 2, which is the number of inputs \n",
        "n_out = teacher_pats.shape[1]  # returns 1, which is the number of outputs"
      ]
    },
    {
      "cell_type": "code",
      "execution_count": 8,
      "metadata": {
        "colab": {
          "base_uri": "https://localhost:8080/"
        },
        "id": "LtPoj-kZwGaO",
        "outputId": "f8391e80-80d3-4fec-db1a-1a6041218dd7"
      },
      "outputs": [
        {
          "output_type": "stream",
          "name": "stdout",
          "text": [
            "Model: \"sequential_1\"\n",
            "_________________________________________________________________\n",
            " Layer (type)                Output Shape              Param #   \n",
            "=================================================================\n",
            " dense_2 (Dense)             (None, 4)                 12        \n",
            "                                                                 \n",
            " dense_3 (Dense)             (None, 1)                 5         \n",
            "                                                                 \n",
            "=================================================================\n",
            "Total params: 17\n",
            "Trainable params: 17\n",
            "Non-trainable params: 0\n",
            "_________________________________________________________________\n",
            "None\n",
            "\n",
            "layer name : dense_2 | input shape : (None, 2) | output shape : (None, 4)\n",
            "layer name : dense_3 | input shape : (None, 4) | output shape : (None, 1)\n",
            "\n",
            "{'name': 'dense_2', 'trainable': True, 'batch_input_shape': (None, 2), 'dtype': 'float32', 'units': 4, 'activation': 'sigmoid', 'use_bias': True, 'kernel_initializer': {'class_name': 'GlorotUniform', 'config': {'seed': None}}, 'bias_initializer': {'class_name': 'Zeros', 'config': {}}, 'kernel_regularizer': None, 'bias_regularizer': None, 'activity_regularizer': None, 'kernel_constraint': None, 'bias_constraint': None}\n",
            "{'name': 'dense_3', 'trainable': True, 'dtype': 'float32', 'units': 1, 'activation': 'sigmoid', 'use_bias': True, 'kernel_initializer': {'class_name': 'GlorotUniform', 'config': {'seed': None}}, 'bias_initializer': {'class_name': 'Zeros', 'config': {}}, 'kernel_regularizer': None, 'bias_regularizer': None, 'activity_regularizer': None, 'kernel_constraint': None, 'bias_constraint': None}\n",
            "\n",
            "Epoch 1/100\n",
            "22/22 [==============================] - 1s 19ms/step - loss: 0.7382 - accuracy: 0.4313 - mse: 0.2724 - val_loss: 0.7099 - val_accuracy: 0.2875 - val_mse: 0.2585\n",
            "Epoch 2/100\n",
            "22/22 [==============================] - 0s 11ms/step - loss: 0.7038 - accuracy: 0.4406 - mse: 0.2553 - val_loss: 0.6933 - val_accuracy: 0.5375 - val_mse: 0.2501\n",
            "Epoch 3/100\n",
            "22/22 [==============================] - 0s 6ms/step - loss: 0.6926 - accuracy: 0.5594 - mse: 0.2497 - val_loss: 0.6860 - val_accuracy: 0.5750 - val_mse: 0.2464\n",
            "Epoch 4/100\n",
            "22/22 [==============================] - 0s 4ms/step - loss: 0.6864 - accuracy: 0.5844 - mse: 0.2466 - val_loss: 0.6789 - val_accuracy: 0.7000 - val_mse: 0.2429\n",
            "Epoch 5/100\n",
            "22/22 [==============================] - 0s 3ms/step - loss: 0.6785 - accuracy: 0.8094 - mse: 0.2427 - val_loss: 0.6736 - val_accuracy: 0.8125 - val_mse: 0.2402\n",
            "Epoch 6/100\n",
            "22/22 [==============================] - 0s 3ms/step - loss: 0.6728 - accuracy: 0.7375 - mse: 0.2398 - val_loss: 0.6672 - val_accuracy: 0.7625 - val_mse: 0.2371\n",
            "Epoch 7/100\n",
            "22/22 [==============================] - 0s 4ms/step - loss: 0.6669 - accuracy: 0.7219 - mse: 0.2369 - val_loss: 0.6614 - val_accuracy: 0.7000 - val_mse: 0.2342\n",
            "Epoch 8/100\n",
            "22/22 [==============================] - 0s 3ms/step - loss: 0.6614 - accuracy: 0.6969 - mse: 0.2342 - val_loss: 0.6546 - val_accuracy: 0.7375 - val_mse: 0.2308\n",
            "Epoch 9/100\n",
            "22/22 [==============================] - 0s 3ms/step - loss: 0.6539 - accuracy: 0.6500 - mse: 0.2305 - val_loss: 0.6470 - val_accuracy: 0.6000 - val_mse: 0.2271\n",
            "Epoch 10/100\n",
            "22/22 [==============================] - 0s 3ms/step - loss: 0.6473 - accuracy: 0.5813 - mse: 0.2273 - val_loss: 0.6383 - val_accuracy: 0.6500 - val_mse: 0.2228\n",
            "Epoch 11/100\n",
            "22/22 [==============================] - 0s 3ms/step - loss: 0.6386 - accuracy: 0.6750 - mse: 0.2230 - val_loss: 0.6292 - val_accuracy: 0.7875 - val_mse: 0.2183\n",
            "Epoch 12/100\n",
            "22/22 [==============================] - 0s 3ms/step - loss: 0.6307 - accuracy: 0.6906 - mse: 0.2191 - val_loss: 0.6197 - val_accuracy: 0.8125 - val_mse: 0.2137\n",
            "Epoch 13/100\n",
            "22/22 [==============================] - 0s 3ms/step - loss: 0.6224 - accuracy: 0.6344 - mse: 0.2151 - val_loss: 0.6095 - val_accuracy: 0.7000 - val_mse: 0.2088\n",
            "Epoch 14/100\n",
            "22/22 [==============================] - 0s 3ms/step - loss: 0.6132 - accuracy: 0.6531 - mse: 0.2107 - val_loss: 0.5996 - val_accuracy: 0.7125 - val_mse: 0.2039\n",
            "Epoch 15/100\n",
            "22/22 [==============================] - 0s 4ms/step - loss: 0.6026 - accuracy: 0.7031 - mse: 0.2055 - val_loss: 0.5887 - val_accuracy: 0.8875 - val_mse: 0.1986\n",
            "Epoch 16/100\n",
            "22/22 [==============================] - 0s 4ms/step - loss: 0.5955 - accuracy: 0.8281 - mse: 0.2020 - val_loss: 0.5784 - val_accuracy: 0.9125 - val_mse: 0.1935\n",
            "Epoch 17/100\n",
            "22/22 [==============================] - 0s 4ms/step - loss: 0.5824 - accuracy: 0.8062 - mse: 0.1958 - val_loss: 0.5668 - val_accuracy: 0.8000 - val_mse: 0.1882\n",
            "Epoch 18/100\n",
            "22/22 [==============================] - 0s 3ms/step - loss: 0.5732 - accuracy: 0.6781 - mse: 0.1918 - val_loss: 0.5566 - val_accuracy: 0.7125 - val_mse: 0.1837\n",
            "Epoch 19/100\n",
            "22/22 [==============================] - 0s 3ms/step - loss: 0.5619 - accuracy: 0.7719 - mse: 0.1864 - val_loss: 0.5431 - val_accuracy: 0.8875 - val_mse: 0.1771\n",
            "Epoch 20/100\n",
            "22/22 [==============================] - 0s 3ms/step - loss: 0.5493 - accuracy: 0.8438 - mse: 0.1803 - val_loss: 0.5308 - val_accuracy: 0.9125 - val_mse: 0.1712\n",
            "Epoch 21/100\n",
            "22/22 [==============================] - 0s 3ms/step - loss: 0.5374 - accuracy: 0.8313 - mse: 0.1749 - val_loss: 0.5192 - val_accuracy: 0.8875 - val_mse: 0.1662\n",
            "Epoch 22/100\n",
            "22/22 [==============================] - 0s 3ms/step - loss: 0.5246 - accuracy: 0.8469 - mse: 0.1689 - val_loss: 0.5062 - val_accuracy: 0.9125 - val_mse: 0.1600\n",
            "Epoch 23/100\n",
            "22/22 [==============================] - 0s 3ms/step - loss: 0.5129 - accuracy: 0.8719 - mse: 0.1636 - val_loss: 0.4933 - val_accuracy: 0.9250 - val_mse: 0.1539\n",
            "Epoch 24/100\n",
            "22/22 [==============================] - 0s 4ms/step - loss: 0.5011 - accuracy: 0.8625 - mse: 0.1583 - val_loss: 0.4814 - val_accuracy: 0.9250 - val_mse: 0.1487\n",
            "Epoch 25/100\n",
            "22/22 [==============================] - 0s 3ms/step - loss: 0.4878 - accuracy: 0.8750 - mse: 0.1524 - val_loss: 0.4692 - val_accuracy: 0.9250 - val_mse: 0.1434\n",
            "Epoch 26/100\n",
            "22/22 [==============================] - 0s 5ms/step - loss: 0.4770 - accuracy: 0.9000 - mse: 0.1474 - val_loss: 0.4565 - val_accuracy: 0.9250 - val_mse: 0.1375\n",
            "Epoch 27/100\n",
            "22/22 [==============================] - 0s 4ms/step - loss: 0.4627 - accuracy: 0.9000 - mse: 0.1413 - val_loss: 0.4455 - val_accuracy: 0.9250 - val_mse: 0.1331\n",
            "Epoch 28/100\n",
            "22/22 [==============================] - 0s 4ms/step - loss: 0.4515 - accuracy: 0.9094 - mse: 0.1364 - val_loss: 0.4333 - val_accuracy: 0.9250 - val_mse: 0.1277\n",
            "Epoch 29/100\n",
            "22/22 [==============================] - 0s 4ms/step - loss: 0.4392 - accuracy: 0.9156 - mse: 0.1316 - val_loss: 0.4225 - val_accuracy: 0.9250 - val_mse: 0.1237\n",
            "Epoch 30/100\n",
            "22/22 [==============================] - 0s 4ms/step - loss: 0.4272 - accuracy: 0.9156 - mse: 0.1264 - val_loss: 0.4113 - val_accuracy: 0.9250 - val_mse: 0.1189\n",
            "Epoch 31/100\n",
            "22/22 [==============================] - 0s 3ms/step - loss: 0.4158 - accuracy: 0.9250 - mse: 0.1216 - val_loss: 0.4003 - val_accuracy: 0.9250 - val_mse: 0.1141\n",
            "Epoch 32/100\n",
            "22/22 [==============================] - 0s 4ms/step - loss: 0.4054 - accuracy: 0.9281 - mse: 0.1171 - val_loss: 0.3897 - val_accuracy: 0.9375 - val_mse: 0.1097\n",
            "Epoch 33/100\n",
            "22/22 [==============================] - 0s 4ms/step - loss: 0.3937 - accuracy: 0.9312 - mse: 0.1121 - val_loss: 0.3789 - val_accuracy: 0.9500 - val_mse: 0.1050\n",
            "Epoch 34/100\n",
            "22/22 [==============================] - 0s 3ms/step - loss: 0.3837 - accuracy: 0.9312 - mse: 0.1084 - val_loss: 0.3694 - val_accuracy: 0.9500 - val_mse: 0.1015\n",
            "Epoch 35/100\n",
            "22/22 [==============================] - 0s 3ms/step - loss: 0.3733 - accuracy: 0.9312 - mse: 0.1038 - val_loss: 0.3610 - val_accuracy: 0.9500 - val_mse: 0.0984\n",
            "Epoch 36/100\n",
            "22/22 [==============================] - 0s 4ms/step - loss: 0.3637 - accuracy: 0.9406 - mse: 0.1002 - val_loss: 0.3514 - val_accuracy: 0.9500 - val_mse: 0.0948\n",
            "Epoch 37/100\n",
            "22/22 [==============================] - 0s 4ms/step - loss: 0.3540 - accuracy: 0.9438 - mse: 0.0961 - val_loss: 0.3420 - val_accuracy: 0.9500 - val_mse: 0.0907\n",
            "Epoch 38/100\n",
            "22/22 [==============================] - 0s 3ms/step - loss: 0.3458 - accuracy: 0.9438 - mse: 0.0933 - val_loss: 0.3337 - val_accuracy: 0.9500 - val_mse: 0.0877\n",
            "Epoch 39/100\n",
            "22/22 [==============================] - 0s 4ms/step - loss: 0.3377 - accuracy: 0.9438 - mse: 0.0893 - val_loss: 0.3256 - val_accuracy: 0.9500 - val_mse: 0.0838\n",
            "Epoch 40/100\n",
            "22/22 [==============================] - 0s 3ms/step - loss: 0.3286 - accuracy: 0.9406 - mse: 0.0864 - val_loss: 0.3179 - val_accuracy: 0.9500 - val_mse: 0.0819\n",
            "Epoch 41/100\n",
            "22/22 [==============================] - 0s 4ms/step - loss: 0.3205 - accuracy: 0.9438 - mse: 0.0835 - val_loss: 0.3104 - val_accuracy: 0.9500 - val_mse: 0.0790\n",
            "Epoch 42/100\n",
            "22/22 [==============================] - 0s 4ms/step - loss: 0.3126 - accuracy: 0.9438 - mse: 0.0805 - val_loss: 0.3035 - val_accuracy: 0.9500 - val_mse: 0.0765\n",
            "Epoch 43/100\n",
            "22/22 [==============================] - 0s 4ms/step - loss: 0.3059 - accuracy: 0.9500 - mse: 0.0782 - val_loss: 0.2973 - val_accuracy: 0.9500 - val_mse: 0.0748\n",
            "Epoch 44/100\n",
            "22/22 [==============================] - 0s 3ms/step - loss: 0.3004 - accuracy: 0.9531 - mse: 0.0754 - val_loss: 0.2912 - val_accuracy: 0.9500 - val_mse: 0.0717\n",
            "Epoch 45/100\n",
            "22/22 [==============================] - 0s 3ms/step - loss: 0.2920 - accuracy: 0.9500 - mse: 0.0730 - val_loss: 0.2841 - val_accuracy: 0.9500 - val_mse: 0.0700\n",
            "Epoch 46/100\n",
            "22/22 [==============================] - 0s 4ms/step - loss: 0.2861 - accuracy: 0.9500 - mse: 0.0715 - val_loss: 0.2781 - val_accuracy: 0.9500 - val_mse: 0.0678\n",
            "Epoch 47/100\n",
            "22/22 [==============================] - 0s 4ms/step - loss: 0.2797 - accuracy: 0.9531 - mse: 0.0684 - val_loss: 0.2726 - val_accuracy: 0.9500 - val_mse: 0.0657\n",
            "Epoch 48/100\n",
            "22/22 [==============================] - 0s 4ms/step - loss: 0.2738 - accuracy: 0.9531 - mse: 0.0668 - val_loss: 0.2671 - val_accuracy: 0.9500 - val_mse: 0.0644\n",
            "Epoch 49/100\n",
            "22/22 [==============================] - 0s 4ms/step - loss: 0.2695 - accuracy: 0.9531 - mse: 0.0649 - val_loss: 0.2622 - val_accuracy: 0.9500 - val_mse: 0.0622\n",
            "Epoch 50/100\n",
            "22/22 [==============================] - 0s 3ms/step - loss: 0.2639 - accuracy: 0.9563 - mse: 0.0627 - val_loss: 0.2565 - val_accuracy: 0.9500 - val_mse: 0.0603\n",
            "Epoch 51/100\n",
            "22/22 [==============================] - 0s 3ms/step - loss: 0.2576 - accuracy: 0.9531 - mse: 0.0610 - val_loss: 0.2522 - val_accuracy: 0.9500 - val_mse: 0.0592\n",
            "Epoch 52/100\n",
            "22/22 [==============================] - 0s 4ms/step - loss: 0.2539 - accuracy: 0.9531 - mse: 0.0600 - val_loss: 0.2477 - val_accuracy: 0.9500 - val_mse: 0.0581\n",
            "Epoch 53/100\n",
            "22/22 [==============================] - 0s 3ms/step - loss: 0.2493 - accuracy: 0.9531 - mse: 0.0585 - val_loss: 0.2437 - val_accuracy: 0.9500 - val_mse: 0.0569\n",
            "Epoch 54/100\n",
            "22/22 [==============================] - 0s 3ms/step - loss: 0.2437 - accuracy: 0.9563 - mse: 0.0566 - val_loss: 0.2389 - val_accuracy: 0.9500 - val_mse: 0.0553\n",
            "Epoch 55/100\n",
            "22/22 [==============================] - 0s 3ms/step - loss: 0.2394 - accuracy: 0.9594 - mse: 0.0553 - val_loss: 0.2348 - val_accuracy: 0.9500 - val_mse: 0.0539\n",
            "Epoch 56/100\n",
            "22/22 [==============================] - 0s 4ms/step - loss: 0.2355 - accuracy: 0.9594 - mse: 0.0539 - val_loss: 0.2307 - val_accuracy: 0.9500 - val_mse: 0.0524\n",
            "Epoch 57/100\n",
            "22/22 [==============================] - 0s 4ms/step - loss: 0.2315 - accuracy: 0.9594 - mse: 0.0526 - val_loss: 0.2270 - val_accuracy: 0.9625 - val_mse: 0.0514\n",
            "Epoch 58/100\n",
            "22/22 [==============================] - 0s 3ms/step - loss: 0.2276 - accuracy: 0.9594 - mse: 0.0517 - val_loss: 0.2237 - val_accuracy: 0.9625 - val_mse: 0.0507\n",
            "Epoch 59/100\n",
            "22/22 [==============================] - 0s 4ms/step - loss: 0.2239 - accuracy: 0.9594 - mse: 0.0503 - val_loss: 0.2200 - val_accuracy: 0.9625 - val_mse: 0.0493\n",
            "Epoch 60/100\n",
            "22/22 [==============================] - 0s 5ms/step - loss: 0.2200 - accuracy: 0.9625 - mse: 0.0491 - val_loss: 0.2167 - val_accuracy: 0.9625 - val_mse: 0.0486\n",
            "Epoch 61/100\n",
            "22/22 [==============================] - 0s 3ms/step - loss: 0.2172 - accuracy: 0.9625 - mse: 0.0486 - val_loss: 0.2139 - val_accuracy: 0.9625 - val_mse: 0.0480\n",
            "Epoch 62/100\n",
            "22/22 [==============================] - 0s 3ms/step - loss: 0.2137 - accuracy: 0.9625 - mse: 0.0475 - val_loss: 0.2102 - val_accuracy: 0.9625 - val_mse: 0.0468\n",
            "Epoch 63/100\n",
            "22/22 [==============================] - 0s 3ms/step - loss: 0.2104 - accuracy: 0.9625 - mse: 0.0464 - val_loss: 0.2074 - val_accuracy: 0.9625 - val_mse: 0.0460\n",
            "Epoch 64/100\n",
            "22/22 [==============================] - 0s 3ms/step - loss: 0.2077 - accuracy: 0.9625 - mse: 0.0455 - val_loss: 0.2043 - val_accuracy: 0.9625 - val_mse: 0.0451\n",
            "Epoch 65/100\n",
            "22/22 [==============================] - 0s 3ms/step - loss: 0.2044 - accuracy: 0.9625 - mse: 0.0445 - val_loss: 0.2012 - val_accuracy: 0.9625 - val_mse: 0.0440\n",
            "Epoch 66/100\n",
            "22/22 [==============================] - 0s 3ms/step - loss: 0.2012 - accuracy: 0.9656 - mse: 0.0434 - val_loss: 0.1982 - val_accuracy: 0.9625 - val_mse: 0.0433\n",
            "Epoch 67/100\n",
            "22/22 [==============================] - 0s 3ms/step - loss: 0.1985 - accuracy: 0.9688 - mse: 0.0429 - val_loss: 0.1954 - val_accuracy: 0.9625 - val_mse: 0.0427\n",
            "Epoch 68/100\n",
            "22/22 [==============================] - 0s 3ms/step - loss: 0.1958 - accuracy: 0.9656 - mse: 0.0422 - val_loss: 0.1931 - val_accuracy: 0.9625 - val_mse: 0.0422\n",
            "Epoch 69/100\n",
            "22/22 [==============================] - 0s 3ms/step - loss: 0.1950 - accuracy: 0.9688 - mse: 0.0414 - val_loss: 0.1905 - val_accuracy: 0.9625 - val_mse: 0.0413\n",
            "Epoch 70/100\n",
            "22/22 [==============================] - 0s 3ms/step - loss: 0.1907 - accuracy: 0.9656 - mse: 0.0411 - val_loss: 0.1886 - val_accuracy: 0.9625 - val_mse: 0.0412\n",
            "Epoch 71/100\n",
            "22/22 [==============================] - 0s 4ms/step - loss: 0.1883 - accuracy: 0.9656 - mse: 0.0404 - val_loss: 0.1860 - val_accuracy: 0.9625 - val_mse: 0.0403\n",
            "Epoch 72/100\n",
            "22/22 [==============================] - 0s 4ms/step - loss: 0.1854 - accuracy: 0.9688 - mse: 0.0391 - val_loss: 0.1834 - val_accuracy: 0.9625 - val_mse: 0.0393\n",
            "Epoch 73/100\n",
            "22/22 [==============================] - 0s 4ms/step - loss: 0.1833 - accuracy: 0.9688 - mse: 0.0385 - val_loss: 0.1809 - val_accuracy: 0.9625 - val_mse: 0.0388\n",
            "Epoch 74/100\n",
            "22/22 [==============================] - 0s 3ms/step - loss: 0.1809 - accuracy: 0.9688 - mse: 0.0381 - val_loss: 0.1789 - val_accuracy: 0.9625 - val_mse: 0.0385\n",
            "Epoch 75/100\n",
            "22/22 [==============================] - 0s 4ms/step - loss: 0.1789 - accuracy: 0.9688 - mse: 0.0375 - val_loss: 0.1766 - val_accuracy: 0.9625 - val_mse: 0.0378\n",
            "Epoch 76/100\n",
            "22/22 [==============================] - 0s 3ms/step - loss: 0.1769 - accuracy: 0.9656 - mse: 0.0370 - val_loss: 0.1747 - val_accuracy: 0.9625 - val_mse: 0.0373\n",
            "Epoch 77/100\n",
            "22/22 [==============================] - 0s 4ms/step - loss: 0.1747 - accuracy: 0.9656 - mse: 0.0364 - val_loss: 0.1728 - val_accuracy: 0.9625 - val_mse: 0.0366\n",
            "Epoch 78/100\n",
            "22/22 [==============================] - 0s 3ms/step - loss: 0.1726 - accuracy: 0.9688 - mse: 0.0358 - val_loss: 0.1705 - val_accuracy: 0.9625 - val_mse: 0.0363\n",
            "Epoch 79/100\n",
            "22/22 [==============================] - 0s 3ms/step - loss: 0.1705 - accuracy: 0.9688 - mse: 0.0352 - val_loss: 0.1683 - val_accuracy: 0.9625 - val_mse: 0.0356\n",
            "Epoch 80/100\n",
            "22/22 [==============================] - 0s 4ms/step - loss: 0.1686 - accuracy: 0.9688 - mse: 0.0347 - val_loss: 0.1661 - val_accuracy: 0.9625 - val_mse: 0.0350\n",
            "Epoch 81/100\n",
            "22/22 [==============================] - 0s 3ms/step - loss: 0.1666 - accuracy: 0.9688 - mse: 0.0341 - val_loss: 0.1645 - val_accuracy: 0.9625 - val_mse: 0.0346\n",
            "Epoch 82/100\n",
            "22/22 [==============================] - 0s 3ms/step - loss: 0.1647 - accuracy: 0.9688 - mse: 0.0334 - val_loss: 0.1624 - val_accuracy: 0.9625 - val_mse: 0.0339\n",
            "Epoch 83/100\n",
            "22/22 [==============================] - 0s 3ms/step - loss: 0.1630 - accuracy: 0.9688 - mse: 0.0332 - val_loss: 0.1606 - val_accuracy: 0.9625 - val_mse: 0.0337\n",
            "Epoch 84/100\n",
            "22/22 [==============================] - 0s 5ms/step - loss: 0.1616 - accuracy: 0.9688 - mse: 0.0330 - val_loss: 0.1593 - val_accuracy: 0.9625 - val_mse: 0.0335\n",
            "Epoch 85/100\n",
            "22/22 [==============================] - 0s 3ms/step - loss: 0.1598 - accuracy: 0.9719 - mse: 0.0322 - val_loss: 0.1573 - val_accuracy: 0.9625 - val_mse: 0.0328\n",
            "Epoch 86/100\n",
            "22/22 [==============================] - 0s 4ms/step - loss: 0.1580 - accuracy: 0.9750 - mse: 0.0319 - val_loss: 0.1553 - val_accuracy: 0.9625 - val_mse: 0.0324\n",
            "Epoch 87/100\n",
            "22/22 [==============================] - 0s 3ms/step - loss: 0.1559 - accuracy: 0.9750 - mse: 0.0313 - val_loss: 0.1539 - val_accuracy: 0.9625 - val_mse: 0.0321\n",
            "Epoch 88/100\n",
            "22/22 [==============================] - 0s 3ms/step - loss: 0.1546 - accuracy: 0.9750 - mse: 0.0311 - val_loss: 0.1520 - val_accuracy: 0.9625 - val_mse: 0.0315\n",
            "Epoch 89/100\n",
            "22/22 [==============================] - 0s 3ms/step - loss: 0.1527 - accuracy: 0.9750 - mse: 0.0306 - val_loss: 0.1506 - val_accuracy: 0.9625 - val_mse: 0.0314\n",
            "Epoch 90/100\n",
            "22/22 [==============================] - 0s 4ms/step - loss: 0.1511 - accuracy: 0.9750 - mse: 0.0301 - val_loss: 0.1487 - val_accuracy: 0.9625 - val_mse: 0.0307\n",
            "Epoch 91/100\n",
            "22/22 [==============================] - 0s 3ms/step - loss: 0.1496 - accuracy: 0.9750 - mse: 0.0296 - val_loss: 0.1475 - val_accuracy: 0.9625 - val_mse: 0.0306\n",
            "Epoch 92/100\n",
            "22/22 [==============================] - 0s 4ms/step - loss: 0.1482 - accuracy: 0.9750 - mse: 0.0295 - val_loss: 0.1460 - val_accuracy: 0.9625 - val_mse: 0.0302\n",
            "Epoch 93/100\n",
            "22/22 [==============================] - 0s 4ms/step - loss: 0.1468 - accuracy: 0.9750 - mse: 0.0288 - val_loss: 0.1441 - val_accuracy: 0.9625 - val_mse: 0.0295\n",
            "Epoch 94/100\n",
            "22/22 [==============================] - 0s 3ms/step - loss: 0.1454 - accuracy: 0.9750 - mse: 0.0286 - val_loss: 0.1433 - val_accuracy: 0.9625 - val_mse: 0.0298\n",
            "Epoch 95/100\n",
            "22/22 [==============================] - 0s 4ms/step - loss: 0.1437 - accuracy: 0.9750 - mse: 0.0281 - val_loss: 0.1410 - val_accuracy: 0.9625 - val_mse: 0.0287\n",
            "Epoch 96/100\n",
            "22/22 [==============================] - 0s 3ms/step - loss: 0.1425 - accuracy: 0.9781 - mse: 0.0275 - val_loss: 0.1397 - val_accuracy: 0.9625 - val_mse: 0.0284\n",
            "Epoch 97/100\n",
            "22/22 [==============================] - 0s 4ms/step - loss: 0.1409 - accuracy: 0.9781 - mse: 0.0273 - val_loss: 0.1384 - val_accuracy: 0.9625 - val_mse: 0.0282\n",
            "Epoch 98/100\n",
            "22/22 [==============================] - 0s 4ms/step - loss: 0.1401 - accuracy: 0.9781 - mse: 0.0270 - val_loss: 0.1371 - val_accuracy: 0.9625 - val_mse: 0.0279\n",
            "Epoch 99/100\n",
            "22/22 [==============================] - 0s 4ms/step - loss: 0.1379 - accuracy: 0.9781 - mse: 0.0266 - val_loss: 0.1360 - val_accuracy: 0.9625 - val_mse: 0.0279\n",
            "Epoch 100/100\n",
            "22/22 [==============================] - 0s 3ms/step - loss: 0.1369 - accuracy: 0.9781 - mse: 0.0265 - val_loss: 0.1342 - val_accuracy: 0.9625 - val_mse: 0.0272\n"
          ]
        }
      ],
      "source": [
        "# create architecture of simple neural network model (using tanh activation function here)\n",
        "\n",
        "nhid1 = 4  # number of nodes in hidden layer\n",
        "\n",
        "network_q5 = models.Sequential()\n",
        "network_q5.add(layers.Dense(nhid1, \n",
        "                         activation='sigmoid', \n",
        "                         input_shape=(n_in,)))\n",
        "network_q5.add(layers.Dense(n_out,\n",
        "                            activation = 'sigmoid'))\n",
        "\n",
        "# print a model summary\n",
        "print(network_q5.summary())\n",
        "print()\n",
        "for layer in network_q5.layers:\n",
        "    print('layer name : {} | input shape : {} | output shape : {}'.format(layer.name, layer.input.shape, layer.output.shape))\n",
        "print()\n",
        "for layer in network_q5.layers:\n",
        "    print(layer.get_config())\n",
        "print()\n",
        "\n",
        "# configure optimizer\n",
        "sgd = optimizers.SGD(learning_rate = 0.01, decay = 1e-6, momentum = 0.9)  # stochastic gradient descent with provided parameters\n",
        "\n",
        "# compile network\n",
        "network_q5.compile(optimizer = sgd, \n",
        "                loss = 'binary_crossentropy', \n",
        "                metrics = ['accuracy', 'mse'])  # added accuracy metric for use later\n",
        "\n",
        "# train the network\n",
        "history = network_q5.fit(train_pats_shuffled, \n",
        "                      teach_pats_shuffled, \n",
        "                      verbose = True, \n",
        "                      validation_split = 0.20,\n",
        "                      epochs = 100, \n",
        "                      batch_size = 15)"
      ]
    },
    {
      "cell_type": "markdown",
      "metadata": {
        "id": "qCjXF9WnufN9"
      },
      "source": [
        "#### **Architecture Analysis**\n",
        "\n",
        "For this new classification problem, I began with 2 hidden layers and 100 epochs. The model failed to reach a horizontal asmympote and barely broke an accuracy of 0.9.\n",
        "\n",
        "I then increased the number of hidden layers to 4. The model reached a horizontal asymptote quickly and got to an accuracy of 0.9844. Interesting.\n",
        "\n",
        "Although the model was sufficient here, I continued testing. I increased the number of epochs from 100 to 150. There was little to no improvement in the accuracy of the model, indicating these extra epochs were redundant.\n",
        "\n",
        "I then tried to change batch size. Increasing the batch size did not go well for the model. It did not get to a horizontal asymptote in accuracy in the same number of epochs. A reduced batch size of 15 landed me at near 100% accuracy. I decided to stick with it.\n",
        "\n",
        "At this point I decided sufficiently classified the data. This was a brief overview of my process."
      ]
    },
    {
      "cell_type": "markdown",
      "metadata": {
        "id": "JC_lpllSwiJP"
      },
      "source": [
        "#### Visualizing Classification Decisions"
      ]
    },
    {
      "cell_type": "code",
      "execution_count": 9,
      "metadata": {
        "colab": {
          "base_uri": "https://localhost:8080/",
          "height": 313
        },
        "id": "kf9c_ahMwj70",
        "outputId": "0a7a3e32-145f-4d58-bf49-2177f0cb71de"
      },
      "outputs": [
        {
          "output_type": "execute_result",
          "data": {
            "text/plain": [
              "Text(0.5, 1.0, 'Model Accuracy')"
            ]
          },
          "metadata": {},
          "execution_count": 9
        },
        {
          "output_type": "display_data",
          "data": {
            "text/plain": [
              "<Figure size 432x288 with 1 Axes>"
            ],
            "image/png": "[encoded data removed]"
          },
          "metadata": {
            "needs_background": "light"
          }
        }
      ],
      "source": [
        "epoch_list = np.arange(0, history.params['epochs'])  # creates an array of x values for each epoch\n",
        "accuracy_list = history.history['accuracy']  # calls the accuracies from training the network above\n",
        "\n",
        "#  Plot the data\n",
        "plt.plot(epoch_list, accuracy_list)\n",
        "plt.xlabel('Epochs')\n",
        "plt.ylabel('Accuracy')\n",
        "plt.title('Model Accuracy')"
      ]
    },
    {
      "cell_type": "code",
      "execution_count": 10,
      "metadata": {
        "colab": {
          "base_uri": "https://localhost:8080/",
          "height": 313
        },
        "id": "E8aiI0b7wnc0",
        "outputId": "074d95ae-4ede-41e1-8ce1-659c23ae11a6"
      },
      "outputs": [
        {
          "output_type": "execute_result",
          "data": {
            "text/plain": [
              "Text(0.5, 1.0, 'Model Accuracy')"
            ]
          },
          "metadata": {},
          "execution_count": 10
        },
        {
          "output_type": "display_data",
          "data": {
            "text/plain": [
              "<Figure size 432x288 with 1 Axes>"
            ],
            "image/png": "[encoded data removed]"
          },
          "metadata": {
            "needs_background": "light"
          }
        }
      ],
      "source": [
        "loss_list = history.history['loss']\n",
        "val_loss_list = history.history['val_loss']\n",
        "\n",
        "plt.plot(epoch_list, loss_list, 'r', val_loss_list, 'c')\n",
        "plt.legend(('loss', 'val_loss'), loc='center right')\n",
        "plt.xlabel('Epochs')\n",
        "plt.title('Model Accuracy')"
      ]
    },
    {
      "cell_type": "code",
      "execution_count": 11,
      "metadata": {
        "id": "es8zfJk6wrF4"
      },
      "outputs": [],
      "source": [
        "# this code will generate an array of test patterns for visualization\n",
        "# they will be evenly spaced along the x and y axes, making a lattice, or mesh \n",
        "\n",
        "xymin = -5\n",
        "xymax = 7.5\n",
        "Npts = 50\n",
        "xv, yv = np.meshgrid(np.linspace(xymin, xymax, Npts), \n",
        "                     np.linspace(xymin, xymax, Npts))\n",
        "test_pats = np.concatenate((xv.reshape((Npts*Npts,1)), \n",
        "                            yv.reshape((Npts*Npts,1))), axis=1)"
      ]
    },
    {
      "cell_type": "code",
      "execution_count": 12,
      "metadata": {
        "id": "xeWsdn6RwwoU"
      },
      "outputs": [],
      "source": [
        "# xv is array of x-values of test grid (from meshgrid above)\n",
        "# yv is array of y-values of test grid (from meshgrid above)\n",
        "# out is the output of the neural network given the test patterns\n",
        "# sample0, sample1 are the training patterns from earlier\n",
        "\n",
        "def plottest(xv, yv, out, sample0, sample1):\n",
        "    # reshape out\n",
        "    zv = out.reshape(xv.shape)\n",
        "\n",
        "    # create figure\n",
        "    fig = plt.figure()\n",
        "    plt.contourf(xv, yv, zv, levels=xv.shape[0], cmap=plt.cm.gist_yarg)\n",
        "    plt.plot(sample0[:,0], sample0[:,1], 'b+', \n",
        "             sample1[:,0], sample1[:,1], 'r+')    \n",
        "    \n",
        "    plt.xlabel('dim1')\n",
        "    plt.ylabel('dim2')\n",
        "    plt.axis('equal')\n",
        "    plt.axis('square')\n",
        "    xymin = -5; xymax = 8\n",
        "    plt.ylim((xymin,xymax))\n",
        "    plt.xlim((xymin,xymax))\n",
        "    plt.show()"
      ]
    },
    {
      "cell_type": "code",
      "execution_count": 13,
      "metadata": {
        "colab": {
          "base_uri": "https://localhost:8080/",
          "height": 301
        },
        "id": "8vu2h3VHwzLV",
        "outputId": "d4137fb7-a9fc-4d1b-89c8-867884733491"
      },
      "outputs": [
        {
          "output_type": "stream",
          "name": "stdout",
          "text": [
            "79/79 [==============================] - 0s 1ms/step\n"
          ]
        },
        {
          "output_type": "display_data",
          "data": {
            "text/plain": [
              "<Figure size 432x288 with 1 Axes>"
            ],
            "image/png": "[encoded data removed]"
          },
          "metadata": {
            "needs_background": "light"
          }
        }
      ],
      "source": [
        "out = network_q5.predict(test_pats)  # use notation, creates an array of outputs\n",
        "\n",
        "plottest(xv, yv, out, sample0, sample1)  # use plottest function from above"
      ]
    },
    {
      "cell_type": "markdown",
      "metadata": {
        "id": "Ypt-YSscwNN8"
      },
      "source": [
        "It is interesting to note the difference in the contour plot with a different number of hidden layers. The network produces differing results based on the settings of the layer, and these classification solutions can vary greatly. The classification problem even varies significantly when you run the same network multiple times."
      ]
    }
  ],
  "metadata": {
    "colab": {
      "collapsed_sections": [
        "EKnrCmFQm_Ni",
        "Tqfq77Wo0XlS",
        "OJ3jvKl1m_Nl",
        "0Z98VN1Jm_Nn",
        "D1s_G1oR2_0P",
        "rPLbikac-qEc",
        "uTqiNAMJt5rw",
        "nrxGawuTwCfd",
        "JC_lpllSwiJP"
      ],
      "provenance": []
    },
    "kernelspec": {
      "display_name": "Python 3.9.13 ('my_tf_env')",
      "language": "python",
      "name": "python3"
    },
    "language_info": {
      "codemirror_mode": {
        "name": "ipython",
        "version": 3
      },
      "file_extension": ".py",
      "mimetype": "text/x-python",
      "name": "python",
      "nbconvert_exporter": "python",
      "pygments_lexer": "ipython3",
      "version": "3.9.13"
    },
    "vscode": {
      "interpreter": {
        "hash": "5dab068212ebd1919c1b34078b31e08f226dd2e33de5731cfaef814413f2dd3e"
      }
    }
  },
  "nbformat": 4,
  "nbformat_minor": 0
}